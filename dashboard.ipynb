{
 "cells": [
  {
   "cell_type": "markdown",
   "metadata": {},
   "source": [
    "BIBLIOTECAS"
   ]
  },
  {
   "cell_type": "code",
   "execution_count": 56,
   "metadata": {},
   "outputs": [],
   "source": [
    "import pandas as pd\n",
    "from sqlalchemy import create_engine\n",
    "import datetime as dt\n",
    "import numpy as np\n",
    "import unidecode\n",
    "import plotly.express as px\n",
    "import plotly.graph_objects as go\n",
    "from dash import Dash, html, dcc, Input, Output\n",
    "import dash_bootstrap_components as dbc"
   ]
  },
  {
   "cell_type": "markdown",
   "metadata": {},
   "source": [
    "EXTRAÇÃO DOS DADOS"
   ]
  },
  {
   "cell_type": "code",
   "execution_count": 57,
   "metadata": {},
   "outputs": [],
   "source": [
    "#   Dados de acesso PostgreSQL\n",
    "trt_name = 'automatiza_metricas_dev'\n",
    "trt_user = 'automatiza'\n",
    "trt_password = 'automatiza'\n",
    "trt_host = '10.5.15.78'\n",
    "trt_port = '5432'\n",
    "\n",
    "#   Acessa o banco de dados e cria a engine\n",
    "db_url = f'postgresql+psycopg2://{trt_user}:{trt_password}@{trt_host}:{trt_port}/{trt_name}'\n",
    "engine = create_engine(db_url)\n",
    "\n",
    "#   Seleciona as tabelas\n",
    "query_cartoes = \"SELECT * FROM cartoes\"\n",
    "query_checklists = \"SELECT * FROM checklists\"\n",
    "query_listas = \"SELECT * FROM listas\"\n",
    "query_quadros = \"SELECT * FROM quadros\"\n",
    "\n",
    "#   Armazena tabelas em dataframes\n",
    "df_cartoes = pd.read_sql(query_cartoes, engine)\n",
    "df_checklists = pd.read_sql(query_checklists, engine)\n",
    "df_listas = pd.read_sql(query_listas, engine)\n",
    "df_quadros = pd.read_sql(query_quadros, engine)\n",
    "\n",
    "#   Copia de segurança das tabelas\n",
    "quadros = df_quadros.copy()\n",
    "listas = df_listas.copy()\n",
    "cartoes = df_cartoes.copy()\n",
    "checklists = df_checklists.copy()"
   ]
  },
  {
   "cell_type": "markdown",
   "metadata": {},
   "source": [
    "TRANSFORMAÇÃO DOS DADOS"
   ]
  },
  {
   "cell_type": "code",
   "execution_count": 58,
   "metadata": {},
   "outputs": [],
   "source": [
    "#   Renomear coluna \"nome\" das tabelas\n",
    "quadros.rename(columns={'nome': 'quadro'}, inplace=True)\n",
    "listas.rename(columns={'nome': 'lista'}, inplace=True)\n",
    "cartoes.rename(columns={'nome': 'cartao'}, inplace=True)\n",
    "checklists.rename(columns={'nome': 'checklist'}, inplace=True)\n",
    "\n",
    "#   Concatenar dataframes\n",
    "consolidado = quadros.merge(listas, on='id_quadro', how='outer') \\\n",
    "    .merge(cartoes, on='id_lista', how='outer') \\\n",
    "        .merge(checklists, on='id_cartao', how='outer')\n",
    "\n",
    "#   Tratar valores nulos\n",
    "consolidado['data_inicio'] = consolidado['data_inicio'].fillna(consolidado['data_fim'])\n",
    "consolidado['data_fim'] = consolidado['data_fim'].fillna(consolidado['data_inicio'])\n",
    "consolidado[['data_inicio', 'data_fim']] = consolidado[['data_inicio', 'data_fim']].fillna(pd.Timestamp('01-01-1900'))\n",
    "consolidado['lead_time'] = consolidado['lead_time'].fillna(1)\n",
    "consolidado['descricao'] = consolidado['descricao'].replace('', np.nan).fillna('sem descricao')\n",
    "consolidado['id_lista'] = consolidado['id_lista'].replace('', np.nan).fillna('sem lista')\n",
    "consolidado['lista'] = consolidado['lista'].replace('', np.nan).fillna('sem lista')\n",
    "consolidado['id_cartao'] = consolidado['id_cartao'].replace('', np.nan).fillna('sem cartao')\n",
    "consolidado['cartao'] = consolidado['cartao'].replace('', np.nan).fillna('sem cartao')\n",
    "consolidado['id_checklist'] = consolidado['id_checklist'].replace('', np.nan).fillna('sem checklist')\n",
    "consolidado['checklist'] = consolidado['checklist'].replace('', np.nan).fillna('sem checklist')\n",
    "consolidado['quant_itens'] = consolidado['quant_itens'].replace('', np.nan).fillna(0)\n",
    "\n",
    "#   Padronizar textos em series\n",
    "def processar_texto(texto):\n",
    "    texto = texto.lower() # letras minusculas\n",
    "    texto = unidecode.unidecode(texto) # remove acentuação\n",
    "    return texto\n",
    "consolidado['lista'] = consolidado['lista'].apply(processar_texto)\n",
    "consolidado['checklist'] = consolidado['checklist'].apply(processar_texto)\n",
    "\n",
    "#   Converter tipos de dados\n",
    "consolidado['data_inicio'] = pd.to_datetime(consolidado['data_inicio'], format='%d-%m-%Y')\n",
    "consolidado['data_fim'] = pd.to_datetime(consolidado['data_fim'], format='%d-%m-%Y')\n",
    "consolidado['lead_time'] = consolidado['lead_time'].astype(int)\n",
    "consolidado['quant_itens'] = consolidado['quant_itens'].astype(int)\n",
    "\n",
    "#   Tratar itens de checklist: bugs e testes\n",
    "consolidado['checklist'] = consolidado['checklist'] \\\n",
    "    .replace(to_replace=r'.*bug.*', value='bug', regex=True) \\\n",
    "        .replace(to_replace=r'.*teste.*', value='teste', regex=True)\n",
    "\n"
   ]
  },
  {
   "cell_type": "markdown",
   "metadata": {},
   "source": [
    "ANÁLISE EXPLORATÓRIA"
   ]
  },
  {
   "cell_type": "code",
   "execution_count": 59,
   "metadata": {},
   "outputs": [],
   "source": [
    "#consolidado.to_csv('consolidado.csv', index=False)\n",
    "#consolidado.to_excel('consolidado.xlsx', index=False)\n",
    "\n",
    "#display(consolidado.info())\n",
    "#display(consolidado.head(3))\n",
    "#display(consolidado[consolidado['data_inicio'] == '01-01-1900'])\n",
    "#display(consolidado['lista'].value_counts())\n",
    "#display(consolidado[consolidado['quadro'] == 'AutomatizaTRT'].head(5))\n",
    "#display(consolidado[consolidado['checklist'].str.contains('teste', case=False)])\n",
    "#display(consolidado['quadro'][consolidado['checklist'].str.contains('teste', case=False)])\n",
    "#display(consolidado['lead_time'].describe())\n",
    "#display(consolidado['checklist'].value_counts())\n"
   ]
  },
  {
   "cell_type": "markdown",
   "metadata": {},
   "source": [
    "CONFIGURAÇÕES DAS FIGURAS"
   ]
  },
  {
   "cell_type": "code",
   "execution_count": 60,
   "metadata": {},
   "outputs": [
    {
     "data": {
      "application/vnd.plotly.v1+json": {
       "config": {
        "plotlyServerURL": "https://plot.ly"
       },
       "data": [
        {
         "text": [
          "2",
          "6"
         ],
         "type": "bar",
         "x": [
          "bug",
          "teste",
          "teste",
          "teste",
          "teste",
          "bug",
          "teste",
          "teste"
         ],
         "y": [
          2,
          6
         ]
        }
       ],
       "layout": {
        "template": {
         "data": {
          "bar": [
           {
            "error_x": {
             "color": "#2a3f5f"
            },
            "error_y": {
             "color": "#2a3f5f"
            },
            "marker": {
             "line": {
              "color": "#E5ECF6",
              "width": 0.5
             },
             "pattern": {
              "fillmode": "overlay",
              "size": 10,
              "solidity": 0.2
             }
            },
            "type": "bar"
           }
          ],
          "barpolar": [
           {
            "marker": {
             "line": {
              "color": "#E5ECF6",
              "width": 0.5
             },
             "pattern": {
              "fillmode": "overlay",
              "size": 10,
              "solidity": 0.2
             }
            },
            "type": "barpolar"
           }
          ],
          "carpet": [
           {
            "aaxis": {
             "endlinecolor": "#2a3f5f",
             "gridcolor": "white",
             "linecolor": "white",
             "minorgridcolor": "white",
             "startlinecolor": "#2a3f5f"
            },
            "baxis": {
             "endlinecolor": "#2a3f5f",
             "gridcolor": "white",
             "linecolor": "white",
             "minorgridcolor": "white",
             "startlinecolor": "#2a3f5f"
            },
            "type": "carpet"
           }
          ],
          "choropleth": [
           {
            "colorbar": {
             "outlinewidth": 0,
             "ticks": ""
            },
            "type": "choropleth"
           }
          ],
          "contour": [
           {
            "colorbar": {
             "outlinewidth": 0,
             "ticks": ""
            },
            "colorscale": [
             [
              0,
              "#0d0887"
             ],
             [
              0.1111111111111111,
              "#46039f"
             ],
             [
              0.2222222222222222,
              "#7201a8"
             ],
             [
              0.3333333333333333,
              "#9c179e"
             ],
             [
              0.4444444444444444,
              "#bd3786"
             ],
             [
              0.5555555555555556,
              "#d8576b"
             ],
             [
              0.6666666666666666,
              "#ed7953"
             ],
             [
              0.7777777777777778,
              "#fb9f3a"
             ],
             [
              0.8888888888888888,
              "#fdca26"
             ],
             [
              1,
              "#f0f921"
             ]
            ],
            "type": "contour"
           }
          ],
          "contourcarpet": [
           {
            "colorbar": {
             "outlinewidth": 0,
             "ticks": ""
            },
            "type": "contourcarpet"
           }
          ],
          "heatmap": [
           {
            "colorbar": {
             "outlinewidth": 0,
             "ticks": ""
            },
            "colorscale": [
             [
              0,
              "#0d0887"
             ],
             [
              0.1111111111111111,
              "#46039f"
             ],
             [
              0.2222222222222222,
              "#7201a8"
             ],
             [
              0.3333333333333333,
              "#9c179e"
             ],
             [
              0.4444444444444444,
              "#bd3786"
             ],
             [
              0.5555555555555556,
              "#d8576b"
             ],
             [
              0.6666666666666666,
              "#ed7953"
             ],
             [
              0.7777777777777778,
              "#fb9f3a"
             ],
             [
              0.8888888888888888,
              "#fdca26"
             ],
             [
              1,
              "#f0f921"
             ]
            ],
            "type": "heatmap"
           }
          ],
          "heatmapgl": [
           {
            "colorbar": {
             "outlinewidth": 0,
             "ticks": ""
            },
            "colorscale": [
             [
              0,
              "#0d0887"
             ],
             [
              0.1111111111111111,
              "#46039f"
             ],
             [
              0.2222222222222222,
              "#7201a8"
             ],
             [
              0.3333333333333333,
              "#9c179e"
             ],
             [
              0.4444444444444444,
              "#bd3786"
             ],
             [
              0.5555555555555556,
              "#d8576b"
             ],
             [
              0.6666666666666666,
              "#ed7953"
             ],
             [
              0.7777777777777778,
              "#fb9f3a"
             ],
             [
              0.8888888888888888,
              "#fdca26"
             ],
             [
              1,
              "#f0f921"
             ]
            ],
            "type": "heatmapgl"
           }
          ],
          "histogram": [
           {
            "marker": {
             "pattern": {
              "fillmode": "overlay",
              "size": 10,
              "solidity": 0.2
             }
            },
            "type": "histogram"
           }
          ],
          "histogram2d": [
           {
            "colorbar": {
             "outlinewidth": 0,
             "ticks": ""
            },
            "colorscale": [
             [
              0,
              "#0d0887"
             ],
             [
              0.1111111111111111,
              "#46039f"
             ],
             [
              0.2222222222222222,
              "#7201a8"
             ],
             [
              0.3333333333333333,
              "#9c179e"
             ],
             [
              0.4444444444444444,
              "#bd3786"
             ],
             [
              0.5555555555555556,
              "#d8576b"
             ],
             [
              0.6666666666666666,
              "#ed7953"
             ],
             [
              0.7777777777777778,
              "#fb9f3a"
             ],
             [
              0.8888888888888888,
              "#fdca26"
             ],
             [
              1,
              "#f0f921"
             ]
            ],
            "type": "histogram2d"
           }
          ],
          "histogram2dcontour": [
           {
            "colorbar": {
             "outlinewidth": 0,
             "ticks": ""
            },
            "colorscale": [
             [
              0,
              "#0d0887"
             ],
             [
              0.1111111111111111,
              "#46039f"
             ],
             [
              0.2222222222222222,
              "#7201a8"
             ],
             [
              0.3333333333333333,
              "#9c179e"
             ],
             [
              0.4444444444444444,
              "#bd3786"
             ],
             [
              0.5555555555555556,
              "#d8576b"
             ],
             [
              0.6666666666666666,
              "#ed7953"
             ],
             [
              0.7777777777777778,
              "#fb9f3a"
             ],
             [
              0.8888888888888888,
              "#fdca26"
             ],
             [
              1,
              "#f0f921"
             ]
            ],
            "type": "histogram2dcontour"
           }
          ],
          "mesh3d": [
           {
            "colorbar": {
             "outlinewidth": 0,
             "ticks": ""
            },
            "type": "mesh3d"
           }
          ],
          "parcoords": [
           {
            "line": {
             "colorbar": {
              "outlinewidth": 0,
              "ticks": ""
             }
            },
            "type": "parcoords"
           }
          ],
          "pie": [
           {
            "automargin": true,
            "type": "pie"
           }
          ],
          "scatter": [
           {
            "fillpattern": {
             "fillmode": "overlay",
             "size": 10,
             "solidity": 0.2
            },
            "type": "scatter"
           }
          ],
          "scatter3d": [
           {
            "line": {
             "colorbar": {
              "outlinewidth": 0,
              "ticks": ""
             }
            },
            "marker": {
             "colorbar": {
              "outlinewidth": 0,
              "ticks": ""
             }
            },
            "type": "scatter3d"
           }
          ],
          "scattercarpet": [
           {
            "marker": {
             "colorbar": {
              "outlinewidth": 0,
              "ticks": ""
             }
            },
            "type": "scattercarpet"
           }
          ],
          "scattergeo": [
           {
            "marker": {
             "colorbar": {
              "outlinewidth": 0,
              "ticks": ""
             }
            },
            "type": "scattergeo"
           }
          ],
          "scattergl": [
           {
            "marker": {
             "colorbar": {
              "outlinewidth": 0,
              "ticks": ""
             }
            },
            "type": "scattergl"
           }
          ],
          "scattermapbox": [
           {
            "marker": {
             "colorbar": {
              "outlinewidth": 0,
              "ticks": ""
             }
            },
            "type": "scattermapbox"
           }
          ],
          "scatterpolar": [
           {
            "marker": {
             "colorbar": {
              "outlinewidth": 0,
              "ticks": ""
             }
            },
            "type": "scatterpolar"
           }
          ],
          "scatterpolargl": [
           {
            "marker": {
             "colorbar": {
              "outlinewidth": 0,
              "ticks": ""
             }
            },
            "type": "scatterpolargl"
           }
          ],
          "scatterternary": [
           {
            "marker": {
             "colorbar": {
              "outlinewidth": 0,
              "ticks": ""
             }
            },
            "type": "scatterternary"
           }
          ],
          "surface": [
           {
            "colorbar": {
             "outlinewidth": 0,
             "ticks": ""
            },
            "colorscale": [
             [
              0,
              "#0d0887"
             ],
             [
              0.1111111111111111,
              "#46039f"
             ],
             [
              0.2222222222222222,
              "#7201a8"
             ],
             [
              0.3333333333333333,
              "#9c179e"
             ],
             [
              0.4444444444444444,
              "#bd3786"
             ],
             [
              0.5555555555555556,
              "#d8576b"
             ],
             [
              0.6666666666666666,
              "#ed7953"
             ],
             [
              0.7777777777777778,
              "#fb9f3a"
             ],
             [
              0.8888888888888888,
              "#fdca26"
             ],
             [
              1,
              "#f0f921"
             ]
            ],
            "type": "surface"
           }
          ],
          "table": [
           {
            "cells": {
             "fill": {
              "color": "#EBF0F8"
             },
             "line": {
              "color": "white"
             }
            },
            "header": {
             "fill": {
              "color": "#C8D4E3"
             },
             "line": {
              "color": "white"
             }
            },
            "type": "table"
           }
          ]
         },
         "layout": {
          "annotationdefaults": {
           "arrowcolor": "#2a3f5f",
           "arrowhead": 0,
           "arrowwidth": 1
          },
          "autotypenumbers": "strict",
          "coloraxis": {
           "colorbar": {
            "outlinewidth": 0,
            "ticks": ""
           }
          },
          "colorscale": {
           "diverging": [
            [
             0,
             "#8e0152"
            ],
            [
             0.1,
             "#c51b7d"
            ],
            [
             0.2,
             "#de77ae"
            ],
            [
             0.3,
             "#f1b6da"
            ],
            [
             0.4,
             "#fde0ef"
            ],
            [
             0.5,
             "#f7f7f7"
            ],
            [
             0.6,
             "#e6f5d0"
            ],
            [
             0.7,
             "#b8e186"
            ],
            [
             0.8,
             "#7fbc41"
            ],
            [
             0.9,
             "#4d9221"
            ],
            [
             1,
             "#276419"
            ]
           ],
           "sequential": [
            [
             0,
             "#0d0887"
            ],
            [
             0.1111111111111111,
             "#46039f"
            ],
            [
             0.2222222222222222,
             "#7201a8"
            ],
            [
             0.3333333333333333,
             "#9c179e"
            ],
            [
             0.4444444444444444,
             "#bd3786"
            ],
            [
             0.5555555555555556,
             "#d8576b"
            ],
            [
             0.6666666666666666,
             "#ed7953"
            ],
            [
             0.7777777777777778,
             "#fb9f3a"
            ],
            [
             0.8888888888888888,
             "#fdca26"
            ],
            [
             1,
             "#f0f921"
            ]
           ],
           "sequentialminus": [
            [
             0,
             "#0d0887"
            ],
            [
             0.1111111111111111,
             "#46039f"
            ],
            [
             0.2222222222222222,
             "#7201a8"
            ],
            [
             0.3333333333333333,
             "#9c179e"
            ],
            [
             0.4444444444444444,
             "#bd3786"
            ],
            [
             0.5555555555555556,
             "#d8576b"
            ],
            [
             0.6666666666666666,
             "#ed7953"
            ],
            [
             0.7777777777777778,
             "#fb9f3a"
            ],
            [
             0.8888888888888888,
             "#fdca26"
            ],
            [
             1,
             "#f0f921"
            ]
           ]
          },
          "colorway": [
           "#636efa",
           "#EF553B",
           "#00cc96",
           "#ab63fa",
           "#FFA15A",
           "#19d3f3",
           "#FF6692",
           "#B6E880",
           "#FF97FF",
           "#FECB52"
          ],
          "font": {
           "color": "#2a3f5f"
          },
          "geo": {
           "bgcolor": "white",
           "lakecolor": "white",
           "landcolor": "#E5ECF6",
           "showlakes": true,
           "showland": true,
           "subunitcolor": "white"
          },
          "hoverlabel": {
           "align": "left"
          },
          "hovermode": "closest",
          "mapbox": {
           "style": "light"
          },
          "paper_bgcolor": "white",
          "plot_bgcolor": "#E5ECF6",
          "polar": {
           "angularaxis": {
            "gridcolor": "white",
            "linecolor": "white",
            "ticks": ""
           },
           "bgcolor": "#E5ECF6",
           "radialaxis": {
            "gridcolor": "white",
            "linecolor": "white",
            "ticks": ""
           }
          },
          "scene": {
           "xaxis": {
            "backgroundcolor": "#E5ECF6",
            "gridcolor": "white",
            "gridwidth": 2,
            "linecolor": "white",
            "showbackground": true,
            "ticks": "",
            "zerolinecolor": "white"
           },
           "yaxis": {
            "backgroundcolor": "#E5ECF6",
            "gridcolor": "white",
            "gridwidth": 2,
            "linecolor": "white",
            "showbackground": true,
            "ticks": "",
            "zerolinecolor": "white"
           },
           "zaxis": {
            "backgroundcolor": "#E5ECF6",
            "gridcolor": "white",
            "gridwidth": 2,
            "linecolor": "white",
            "showbackground": true,
            "ticks": "",
            "zerolinecolor": "white"
           }
          },
          "shapedefaults": {
           "line": {
            "color": "#2a3f5f"
           }
          },
          "ternary": {
           "aaxis": {
            "gridcolor": "white",
            "linecolor": "white",
            "ticks": ""
           },
           "baxis": {
            "gridcolor": "white",
            "linecolor": "white",
            "ticks": ""
           },
           "bgcolor": "#E5ECF6",
           "caxis": {
            "gridcolor": "white",
            "linecolor": "white",
            "ticks": ""
           }
          },
          "title": {
           "x": 0.05
          },
          "xaxis": {
           "automargin": true,
           "gridcolor": "white",
           "linecolor": "white",
           "ticks": "",
           "title": {
            "standoff": 15
           },
           "zerolinecolor": "white",
           "zerolinewidth": 2
          },
          "yaxis": {
           "automargin": true,
           "gridcolor": "white",
           "linecolor": "white",
           "ticks": "",
           "title": {
            "standoff": 15
           },
           "zerolinecolor": "white",
           "zerolinewidth": 2
          }
         }
        },
        "title": {
         "text": "BUGS E TESTES"
        },
        "xaxis": {
         "title": {
          "text": "CHECKLISTS"
         }
        }
       }
      }
     },
     "metadata": {},
     "output_type": "display_data"
    }
   ],
   "source": [
    "#   Dados a serem inseridos nas figuras\n",
    "tarefas_quadro = consolidado.groupby('quadro').size().reset_index(name = 'total_cartoes')\n",
    "leadtime_tarefas = consolidado[['quadro', 'lead_time']]\n",
    "checklist_interessada = consolidado[consolidado['checklist'].isin(['bug', 'teste'])]\n",
    "bugs_encontrados = checklist_interessada['checklist'].str.contains('bug').sum()\n",
    "testes_encontrados = checklist_interessada['checklist'].str.contains('teste').sum()\n",
    "\n",
    "#   FIGURAS\n",
    "#   Tarefas concluídas por quadro\n",
    "fig_tarefasconcluidas = go.Figure(go.Bar(\n",
    "    x = tarefas_quadro['total_cartoes'],\n",
    "    y = tarefas_quadro['quadro'],\n",
    "    orientation = 'h',\n",
    "    text = tarefas_quadro['total_cartoes'],\n",
    "    textposition = 'auto',\n",
    "    textangle = 0\n",
    "    ))\n",
    "fig_tarefasconcluidas.update_layout(\n",
    "    title = \"TOTAL DE CARTÕES POR QUADRO\",\n",
    "    xaxis_title =  \"TAREFAS CONCLUÍDAS\",\n",
    "    yaxis_title = \"QUADROS\",\n",
    "    yaxis = dict(categoryorder = 'total ascending'),\n",
    "    uniformtext_minsize = 8,\n",
    "    uniformtext_mode = 'hide'\n",
    ")\n",
    "\n",
    "#   Tempo de tarefas concluídas\n",
    "fig_leadtime = go.Figure(go.Scatter(\n",
    "    y = leadtime_tarefas['lead_time'],\n",
    "    mode = 'markers'\n",
    "    ))\n",
    "fig_leadtime.update_layout(\n",
    "    title = \"LEAD TIME\",\n",
    "    yaxis_title = \"TEMPO DE TAREFA (DIAS)\",\n",
    "    xaxis_title = \"TAREFAS CONCLUÍDAS\"\n",
    ")\n",
    "\n",
    "#   Bugs e testes encontrados\n",
    "fig_bugteste = go.Figure(go.Bar(\n",
    "    x = checklist_interessada['checklist'],\n",
    "    y = [bugs_encontrados, testes_encontrados],\n",
    "    text = [bugs_encontrados, testes_encontrados]\n",
    "    ))\n",
    "fig_bugteste.update_layout(\n",
    "    title = \"BUGS E TESTES\",\n",
    "    xaxis_title =  \"CHECKLISTS\"\n",
    "    \n",
    ")\n"
   ]
  },
  {
   "cell_type": "markdown",
   "metadata": {},
   "source": [
    "LAYOUT DA DASHBOARD"
   ]
  },
  {
   "cell_type": "code",
   "execution_count": 61,
   "metadata": {},
   "outputs": [
    {
     "data": {
      "text/html": [
       "\n",
       "        <iframe\n",
       "            width=\"100%\"\n",
       "            height=\"650\"\n",
       "            src=\"http://127.0.0.1:8050/\"\n",
       "            frameborder=\"0\"\n",
       "            allowfullscreen\n",
       "            \n",
       "        ></iframe>\n",
       "        "
      ],
      "text/plain": [
       "<IPython.lib.display.IFrame at 0x258367cddc0>"
      ]
     },
     "metadata": {},
     "output_type": "display_data"
    }
   ],
   "source": [
    "BS = \"https://cdn.jsdelivr.net/npm/bootstrap@5.3.3/dist/css/bootstrap.min.css\"\n",
    "app = Dash(__name__, external_stylesheets=[BS])\n",
    "app.layout = dbc.Container(\n",
    "    [\n",
    "        dbc.Row(\n",
    "            [\n",
    "                dbc.Col(\n",
    "                    dcc.Graph(figure = fig_tarefasconcluidas), width={\"size\": 4}\n",
    "                ),\n",
    "                dbc.Col(\n",
    "                    dcc.Graph(figure = fig_leadtime), width={\"size\": 4}\n",
    "                ),\n",
    "                dbc.Col(\n",
    "                    dcc.Graph(figure = fig_bugteste), width={\"size\": 4}\n",
    "                )\n",
    "            ], justify='center'\n",
    "        )\n",
    "    ], fluid=True\n",
    ")\n",
    "\n",
    "if __name__ == '__main__':\n",
    "    app.run_server(host='127.0.0.1', port=8050)"
   ]
  }
 ],
 "metadata": {
  "kernelspec": {
   "display_name": "Python 3",
   "language": "python",
   "name": "python3"
  },
  "language_info": {
   "codemirror_mode": {
    "name": "ipython",
    "version": 3
   },
   "file_extension": ".py",
   "mimetype": "text/x-python",
   "name": "python",
   "nbconvert_exporter": "python",
   "pygments_lexer": "ipython3",
   "version": "3.12.4"
  }
 },
 "nbformat": 4,
 "nbformat_minor": 2
}
