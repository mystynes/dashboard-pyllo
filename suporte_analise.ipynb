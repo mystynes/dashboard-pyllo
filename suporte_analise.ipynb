{
 "cells": [
  {
   "cell_type": "markdown",
   "metadata": {},
   "source": [
    "IMPORTAÇÃO DE BIBLIOTECAS"
   ]
  },
  {
   "cell_type": "code",
   "execution_count": 1,
   "metadata": {},
   "outputs": [],
   "source": [
    "import pandas as pd\n",
    "import plotly.graph_objects as go\n",
    "from dash import Dash, html, dcc, Input, Output\n",
    "from bs4 import BeautifulSoup\n",
    "import requests\n",
    "from datetime import datetime"
   ]
  },
  {
   "cell_type": "markdown",
   "metadata": {},
   "source": [
    "LEITURA DOS DATASETS"
   ]
  },
  {
   "cell_type": "code",
   "execution_count": 2,
   "metadata": {},
   "outputs": [],
   "source": [
    "df_dxy = pd.read_csv('dxy_daily_2023_marketwatch.csv')\n",
    "df_xau = pd.read_csv('xauusd_daily_2023_metaquotesdemo.csv')\n",
    "df_eur = pd.read_csv('eurusd_daily_2023_metaquotesdemo.csv')\n",
    "df_gbp = pd.read_csv('gbpusd_daily_2023_metaquotesdemo.csv')\n",
    "df_aud = pd.read_csv('audusd_daily_2023_metaquotesdemo.csv')\n",
    "\n",
    "artigos = pd.read_csv('artigos_coletados.csv')"
   ]
  },
  {
   "cell_type": "markdown",
   "metadata": {},
   "source": [
    "TRATAMENTO DOS DATAFRAMES"
   ]
  },
  {
   "cell_type": "code",
   "execution_count": 3,
   "metadata": {},
   "outputs": [],
   "source": [
    "# armazenar 'data e fechamento diário' num dataframe independente\n",
    "df_dxy_close = df_dxy[['date', 'close']].copy()\n",
    "df_xau_close = df_xau[['date', 'close']].copy()\n",
    "df_eur_close = df_eur[['date', 'close']].copy()\n",
    "df_gbp_close = df_gbp[['date', 'close']].copy()\n",
    "df_aud_close = df_aud[['date', 'close']].copy()\n",
    "\n",
    "# converter valores na coluna data em tipo datetime de ambos dataframes\n",
    "df_xau_close['date'] = pd.to_datetime(df_xau_close['date'])\n",
    "df_dxy_close['date'] = pd.to_datetime(df_dxy_close['date'])\n",
    "df_eur_close['date'] = pd.to_datetime(df_eur_close['date'])\n",
    "df_gbp_close['date'] = pd.to_datetime(df_gbp_close['date'])\n",
    "df_aud_close['date'] = pd.to_datetime(df_aud_close['date'])\n",
    "artigos['date'] = pd.to_datetime(artigos['date'])\n",
    "# ordenar valores no dataframe do índice do dólar\n",
    "df_dxy_close = df_dxy_close.sort_values(by='date')\n",
    "\n",
    "# DEFININDO ALTA VOLATILIDADE -----------------------------------------------------------------\n",
    "df_xau_close['diferenca'] = df_xau_close['close'].diff()\n",
    "df_xau_close = df_xau_close.dropna()\n",
    "media_df_xau = df_xau_close['diferenca'].mean()\n",
    "desvio_padrao_xau = df_xau_close['diferenca'].std()\n",
    "limite_volatilidade = media_df_xau + desvio_padrao_xau\n",
    "alta_volatilidade_xau = df_xau_close[df_xau_close['diferenca'] > limite_volatilidade]\n"
   ]
  },
  {
   "cell_type": "markdown",
   "metadata": {},
   "source": [
    "WEBSCRAPING COM BEAUTIFUL SOUP"
   ]
  },
  {
   "cell_type": "code",
   "execution_count": null,
   "metadata": {},
   "outputs": [],
   "source": [
    "base_url = 'https://www.investing.com/currencies/xau-usd-news'\n",
    "\n",
    "# função para raspar notícias de uma página específica do site\n",
    "def scrap_site(site_url, dias_de_alta):\n",
    "    # recebe o conteúdo\n",
    "    response = requests.get(site_url)\n",
    "    \n",
    "    # analisa o conteúdo html da página recebida / faz a sopa rs\n",
    "    soup = BeautifulSoup(response.content, 'html.parser')\n",
    "\n",
    "    # encontrar na pagina investing.com todos elementos <articles>\n",
    "    articles = soup.find_all('article', {'data-test': 'article-item'})\n",
    "\n",
    "    # armazenar em noticias um dicionario de elementos\n",
    "    noticias = []\n",
    "    for article in articles:\n",
    "        data_extraida = article.find('time')['datetime']\n",
    "        if data_extraida:\n",
    "            data_artigo = datetime.strptime(data_extraida, '%Y-%m-%d %H:%M:%S').date()\n",
    "            if data_artigo in dias_de_alta: # filtro dos artigos raspados\n",
    "                title = article.find('a', {'data-test': 'article-title-link'}).get_text(strip=True)\n",
    "                summary = article.find('p', {'data-test': 'article-description'}).get_text(strip=True)\n",
    "                link_artigo = article.find('a', {'data-test': 'article-title-link'})\n",
    "                href = link_artigo['href']\n",
    "                noticias.append({'titulo': title, 'resumo': summary, 'date': data_artigo, 'link': f'https://www.investing.com/{href}'})\n",
    "    return noticias\n",
    "\n",
    "# converter as datas de alta volatilidade para um conjunto de objetos datetime.date\n",
    "dias_de_alta = set(pd.to_datetime(alta_volatilidade_xau['date']).dt.date)\n",
    "\n",
    "# lista para armazenar as notícias coletadas\n",
    "lista_noticias = []\n",
    "\n",
    "# interage com lista de artigos em cada página de notícias\n",
    "for pagina in range(1, 100):\n",
    "    site_url = f\"{base_url}/{pagina}\"\n",
    "    print(f\"Raspando a página {pagina}\")\n",
    "    cada_artigo = scrap_site(site_url, dias_de_alta)\n",
    "    if cada_artigo:\n",
    "        lista_noticias.extend(cada_artigo)\n",
    "\n",
    "# cria um dataframe com as notícias coletadas\n",
    "coleta_artigos = pd.DataFrame(lista_noticias, columns=['date', 'titulo', 'resumo', 'link'])\n",
    "\n",
    "# salva as notícias coletadas em um arquivo CSV\n",
    "coleta_artigos.to_csv('artigos_coletados.csv', index=False)"
   ]
  },
  {
   "cell_type": "markdown",
   "metadata": {},
   "source": [
    "PERSONALIZAÇÃO DOS GRÁFICOS"
   ]
  },
  {
   "cell_type": "code",
   "execution_count": 5,
   "metadata": {},
   "outputs": [
    {
     "data": {
      "application/vnd.plotly.v1+json": {
       "config": {
        "plotlyServerURL": "https://plot.ly"
       },
       "data": [
        {
         "mode": "lines",
         "name": "Histórico de Preços",
         "type": "scatter",
         "x": [
          "2023-01-04T00:00:00",
          "2023-01-05T00:00:00",
          "2023-01-06T00:00:00",
          "2023-01-09T00:00:00",
          "2023-01-10T00:00:00",
          "2023-01-11T00:00:00",
          "2023-01-12T00:00:00",
          "2023-01-13T00:00:00",
          "2023-01-16T00:00:00",
          "2023-01-17T00:00:00",
          "2023-01-18T00:00:00",
          "2023-01-19T00:00:00",
          "2023-01-20T00:00:00",
          "2023-01-23T00:00:00",
          "2023-01-24T00:00:00",
          "2023-01-25T00:00:00",
          "2023-01-26T00:00:00",
          "2023-01-27T00:00:00",
          "2023-01-30T00:00:00",
          "2023-01-31T00:00:00",
          "2023-02-01T00:00:00",
          "2023-02-02T00:00:00",
          "2023-02-03T00:00:00",
          "2023-02-06T00:00:00",
          "2023-02-07T00:00:00",
          "2023-02-08T00:00:00",
          "2023-02-09T00:00:00",
          "2023-02-10T00:00:00",
          "2023-02-13T00:00:00",
          "2023-02-14T00:00:00",
          "2023-02-15T00:00:00",
          "2023-02-16T00:00:00",
          "2023-02-17T00:00:00",
          "2023-02-20T00:00:00",
          "2023-02-21T00:00:00",
          "2023-02-22T00:00:00",
          "2023-02-23T00:00:00",
          "2023-02-24T00:00:00",
          "2023-02-27T00:00:00",
          "2023-02-28T00:00:00",
          "2023-03-01T00:00:00",
          "2023-03-02T00:00:00",
          "2023-03-03T00:00:00",
          "2023-03-06T00:00:00",
          "2023-03-07T00:00:00",
          "2023-03-08T00:00:00",
          "2023-03-09T00:00:00",
          "2023-03-10T00:00:00",
          "2023-03-13T00:00:00",
          "2023-03-14T00:00:00",
          "2023-03-15T00:00:00",
          "2023-03-16T00:00:00",
          "2023-03-17T00:00:00",
          "2023-03-20T00:00:00",
          "2023-03-21T00:00:00",
          "2023-03-22T00:00:00",
          "2023-03-23T00:00:00",
          "2023-03-24T00:00:00",
          "2023-03-27T00:00:00",
          "2023-03-28T00:00:00",
          "2023-03-29T00:00:00",
          "2023-03-30T00:00:00",
          "2023-03-31T00:00:00",
          "2023-04-03T00:00:00",
          "2023-04-04T00:00:00",
          "2023-04-05T00:00:00",
          "2023-04-06T00:00:00",
          "2023-04-10T00:00:00",
          "2023-04-11T00:00:00",
          "2023-04-12T00:00:00",
          "2023-04-13T00:00:00",
          "2023-04-14T00:00:00",
          "2023-04-17T00:00:00",
          "2023-04-18T00:00:00",
          "2023-04-19T00:00:00",
          "2023-04-20T00:00:00",
          "2023-04-21T00:00:00",
          "2023-04-24T00:00:00",
          "2023-04-25T00:00:00",
          "2023-04-26T00:00:00",
          "2023-04-27T00:00:00",
          "2023-04-28T00:00:00",
          "2023-05-01T00:00:00",
          "2023-05-02T00:00:00",
          "2023-05-03T00:00:00",
          "2023-05-04T00:00:00",
          "2023-05-05T00:00:00",
          "2023-05-08T00:00:00",
          "2023-05-09T00:00:00",
          "2023-05-10T00:00:00",
          "2023-05-11T00:00:00",
          "2023-05-12T00:00:00",
          "2023-05-15T00:00:00",
          "2023-05-16T00:00:00",
          "2023-05-17T00:00:00",
          "2023-05-18T00:00:00",
          "2023-05-19T00:00:00",
          "2023-05-22T00:00:00",
          "2023-05-23T00:00:00",
          "2023-05-24T00:00:00",
          "2023-05-25T00:00:00",
          "2023-05-26T00:00:00",
          "2023-05-29T00:00:00",
          "2023-05-30T00:00:00",
          "2023-05-31T00:00:00",
          "2023-06-01T00:00:00",
          "2023-06-02T00:00:00",
          "2023-06-05T00:00:00",
          "2023-06-06T00:00:00",
          "2023-06-07T00:00:00",
          "2023-06-08T00:00:00",
          "2023-06-09T00:00:00",
          "2023-06-12T00:00:00",
          "2023-06-13T00:00:00",
          "2023-06-14T00:00:00",
          "2023-06-15T00:00:00",
          "2023-06-16T00:00:00",
          "2023-06-19T00:00:00",
          "2023-06-20T00:00:00",
          "2023-06-21T00:00:00",
          "2023-06-22T00:00:00",
          "2023-06-23T00:00:00",
          "2023-06-26T00:00:00",
          "2023-06-27T00:00:00",
          "2023-06-28T00:00:00",
          "2023-06-29T00:00:00",
          "2023-06-30T00:00:00",
          "2023-07-03T00:00:00",
          "2023-07-04T00:00:00",
          "2023-07-05T00:00:00",
          "2023-07-06T00:00:00",
          "2023-07-07T00:00:00",
          "2023-07-10T00:00:00",
          "2023-07-11T00:00:00",
          "2023-07-12T00:00:00",
          "2023-07-13T00:00:00",
          "2023-07-14T00:00:00",
          "2023-07-17T00:00:00",
          "2023-07-18T00:00:00",
          "2023-07-19T00:00:00",
          "2023-07-20T00:00:00",
          "2023-07-21T00:00:00",
          "2023-07-24T00:00:00",
          "2023-07-25T00:00:00",
          "2023-07-26T00:00:00",
          "2023-07-27T00:00:00",
          "2023-07-28T00:00:00",
          "2023-07-31T00:00:00",
          "2023-08-01T00:00:00",
          "2023-08-02T00:00:00",
          "2023-08-03T00:00:00",
          "2023-08-04T00:00:00",
          "2023-08-07T00:00:00",
          "2023-08-08T00:00:00",
          "2023-08-09T00:00:00",
          "2023-08-10T00:00:00",
          "2023-08-11T00:00:00",
          "2023-08-14T00:00:00",
          "2023-08-15T00:00:00",
          "2023-08-16T00:00:00",
          "2023-08-17T00:00:00",
          "2023-08-18T00:00:00",
          "2023-08-21T00:00:00",
          "2023-08-22T00:00:00",
          "2023-08-23T00:00:00",
          "2023-08-24T00:00:00",
          "2023-08-25T00:00:00",
          "2023-08-28T00:00:00",
          "2023-08-29T00:00:00",
          "2023-08-30T00:00:00",
          "2023-08-31T00:00:00",
          "2023-09-01T00:00:00",
          "2023-09-04T00:00:00",
          "2023-09-05T00:00:00",
          "2023-09-06T00:00:00",
          "2023-09-07T00:00:00",
          "2023-09-08T00:00:00",
          "2023-09-11T00:00:00",
          "2023-09-12T00:00:00",
          "2023-09-13T00:00:00",
          "2023-09-14T00:00:00",
          "2023-09-15T00:00:00",
          "2023-09-18T00:00:00",
          "2023-09-19T00:00:00",
          "2023-09-20T00:00:00",
          "2023-09-21T00:00:00",
          "2023-09-22T00:00:00",
          "2023-09-25T00:00:00",
          "2023-09-26T00:00:00",
          "2023-09-27T00:00:00",
          "2023-09-28T00:00:00",
          "2023-09-29T00:00:00",
          "2023-10-02T00:00:00",
          "2023-10-03T00:00:00",
          "2023-10-04T00:00:00",
          "2023-10-05T00:00:00",
          "2023-10-06T00:00:00",
          "2023-10-09T00:00:00",
          "2023-10-10T00:00:00",
          "2023-10-11T00:00:00",
          "2023-10-12T00:00:00",
          "2023-10-13T00:00:00",
          "2023-10-16T00:00:00",
          "2023-10-17T00:00:00",
          "2023-10-18T00:00:00",
          "2023-10-19T00:00:00",
          "2023-10-20T00:00:00",
          "2023-10-23T00:00:00",
          "2023-10-24T00:00:00",
          "2023-10-25T00:00:00",
          "2023-10-26T00:00:00",
          "2023-10-27T00:00:00",
          "2023-10-30T00:00:00",
          "2023-10-31T00:00:00",
          "2023-11-01T00:00:00",
          "2023-11-02T00:00:00",
          "2023-11-03T00:00:00",
          "2023-11-06T00:00:00",
          "2023-11-07T00:00:00",
          "2023-11-08T00:00:00",
          "2023-11-09T00:00:00",
          "2023-11-10T00:00:00",
          "2023-11-13T00:00:00",
          "2023-11-14T00:00:00",
          "2023-11-15T00:00:00",
          "2023-11-16T00:00:00",
          "2023-11-17T00:00:00",
          "2023-11-20T00:00:00",
          "2023-11-21T00:00:00",
          "2023-11-22T00:00:00",
          "2023-11-23T00:00:00",
          "2023-11-24T00:00:00",
          "2023-11-27T00:00:00",
          "2023-11-28T00:00:00",
          "2023-11-29T00:00:00",
          "2023-11-30T00:00:00",
          "2023-12-01T00:00:00",
          "2023-12-04T00:00:00",
          "2023-12-05T00:00:00",
          "2023-12-06T00:00:00",
          "2023-12-07T00:00:00",
          "2023-12-08T00:00:00",
          "2023-12-11T00:00:00",
          "2023-12-12T00:00:00",
          "2023-12-13T00:00:00",
          "2023-12-14T00:00:00",
          "2023-12-15T00:00:00",
          "2023-12-18T00:00:00",
          "2023-12-19T00:00:00",
          "2023-12-20T00:00:00",
          "2023-12-21T00:00:00",
          "2023-12-22T00:00:00",
          "2023-12-26T00:00:00",
          "2023-12-27T00:00:00",
          "2023-12-28T00:00:00",
          "2023-12-29T00:00:00"
         ],
         "y": [
          1854.45,
          1833.11,
          1866.44,
          1871.59,
          1877.22,
          1875.92,
          1897.29,
          1920.53,
          1915.45,
          1908.38,
          1904.15,
          1931.69,
          1926.72,
          1931.55,
          1937.27,
          1946.26,
          1929.09,
          1928.41,
          1923.04,
          1928.06,
          1950.09,
          1912.52,
          1865.75,
          1867.64,
          1872.09,
          1875.78,
          1861.27,
          1865.22,
          1853.91,
          1854.38,
          1836.08,
          1836.25,
          1841.86,
          1841.26,
          1834.9,
          1825.28,
          1822.34,
          1811.11,
          1817.22,
          1827.11,
          1836.74,
          1835.98,
          1854.66,
          1847.1,
          1813.53,
          1813.59,
          1830.91,
          1867.28,
          1913.97,
          1903.67,
          1918.12,
          1919.72,
          1986.28,
          1978.79,
          1940.39,
          1968.21,
          1993.26,
          1977.61,
          1956.15,
          1973.94,
          1964.43,
          1980,
          1969.3,
          1984.07,
          2020.22,
          2020.29,
          2007.52,
          1991.28,
          2003.4,
          2014.78,
          2040.71,
          2004.58,
          1995.11,
          2004.73,
          1994.94,
          2004.77,
          1982.66,
          1988.92,
          1996.64,
          1989.16,
          1987.69,
          1989.66,
          1982.51,
          2016.71,
          2039.01,
          2050.38,
          2015.83,
          2021.48,
          2034.45,
          2029.97,
          2015.01,
          2010.78,
          2016,
          1988.64,
          1981.79,
          1957.35,
          1977.55,
          1971.65,
          1975.16,
          1957.59,
          1940.58,
          1946.46,
          1943.15,
          1959.81,
          1963.04,
          1977.81,
          1948.17,
          1961.6,
          1962.98,
          1940.04,
          1965.36,
          1960.53,
          1956.93,
          1943,
          1940.06,
          1958,
          1957.26,
          1950.48,
          1935.58,
          1932.31,
          1913.21,
          1921.25,
          1923.03,
          1913.1,
          1906.83,
          1908.11,
          1918.99,
          1921.29,
          1925.89,
          1914.82,
          1910.61,
          1925.04,
          1925.06,
          1932.2,
          1957.58,
          1960.32,
          1958.62,
          1954.84,
          1978.82,
          1976.64,
          1969.41,
          1961.84,
          1954.47,
          1964.68,
          1972.01,
          1944.7,
          1959,
          1965.57,
          1944.09,
          1934.56,
          1934.2,
          1942.65,
          1936.21,
          1924.69,
          1914.44,
          1912.39,
          1913.66,
          1907.1,
          1901.57,
          1892.47,
          1888.95,
          1889.58,
          1894.66,
          1897.32,
          1915.33,
          1916.85,
          1913.87,
          1920.04,
          1937.56,
          1942.37,
          1939.87,
          1939.86,
          1938.47,
          1925.83,
          1916.19,
          1919.53,
          1918.99,
          1922.36,
          1913.26,
          1908.13,
          1910.39,
          1923.62,
          1933.56,
          1931.23,
          1929.31,
          1919.82,
          1925.07,
          1915.9,
          1900.3,
          1875.08,
          1865.24,
          1848.99,
          1828.02,
          1823.21,
          1820.77,
          1820.15,
          1831.49,
          1861.31,
          1860.02,
          1873.64,
          1868.82,
          1929.6,
          1919.76,
          1922.95,
          1947.69,
          1974.15,
          1980.3,
          1972.61,
          1971.01,
          1979.52,
          1984.51,
          2005.58,
          1996.35,
          1983.79,
          1981.4,
          1985.34,
          1992.36,
          1978.1,
          1968.76,
          1950.25,
          1958.5,
          1937.78,
          1946.03,
          1963.08,
          1959.34,
          1981.19,
          1980.16,
          1977.33,
          1998.52,
          1989.89,
          1992.78,
          2002.33,
          2013.95,
          2041.11,
          2044.08,
          2035.99,
          2071.35,
          2028.93,
          2019.16,
          2025.34,
          2028.52,
          2003.89,
          1981.73,
          1979.31,
          2026.29,
          2035.83,
          2018.39,
          2027.11,
          2040.5,
          2030.78,
          2045.87,
          2053.08,
          2067.23,
          2077.16,
          2065.61,
          2062.47
         ],
         "yaxis": "y"
        },
        {
         "mode": "markers",
         "name": "Alta Volatilidade",
         "type": "scatter",
         "x": [
          "2023-01-06T00:00:00",
          "2023-01-12T00:00:00",
          "2023-01-13T00:00:00",
          "2023-01-19T00:00:00",
          "2023-02-01T00:00:00",
          "2023-03-03T00:00:00",
          "2023-03-09T00:00:00",
          "2023-03-10T00:00:00",
          "2023-03-13T00:00:00",
          "2023-03-17T00:00:00",
          "2023-03-22T00:00:00",
          "2023-03-23T00:00:00",
          "2023-03-28T00:00:00",
          "2023-04-04T00:00:00",
          "2023-04-13T00:00:00",
          "2023-05-02T00:00:00",
          "2023-05-03T00:00:00",
          "2023-05-19T00:00:00",
          "2023-06-08T00:00:00",
          "2023-06-15T00:00:00",
          "2023-07-12T00:00:00",
          "2023-07-18T00:00:00",
          "2023-08-23T00:00:00",
          "2023-08-29T00:00:00",
          "2023-10-09T00:00:00",
          "2023-10-13T00:00:00",
          "2023-10-18T00:00:00",
          "2023-10-19T00:00:00",
          "2023-10-27T00:00:00",
          "2023-11-14T00:00:00",
          "2023-11-16T00:00:00",
          "2023-11-21T00:00:00",
          "2023-11-28T00:00:00",
          "2023-12-01T00:00:00",
          "2023-12-13T00:00:00"
         ],
         "y": [
          1866.44,
          1897.29,
          1920.53,
          1931.69,
          1950.09,
          1854.66,
          1830.91,
          1867.28,
          1913.97,
          1986.28,
          1968.21,
          1993.26,
          1973.94,
          2020.22,
          2040.71,
          2016.71,
          2039.01,
          1977.55,
          1965.36,
          1958,
          1957.58,
          1978.82,
          1915.33,
          1937.56,
          1861.31,
          1929.6,
          1947.69,
          1974.15,
          2005.58,
          1963.08,
          1981.19,
          1998.52,
          2041.11,
          2071.35,
          2026.29
         ],
         "yaxis": "y2"
        }
       ],
       "layout": {
        "legend": {
         "x": 0.01,
         "y": 0.99
        },
        "paper_bgcolor": "#f8f9fa",
        "plot_bgcolor": "#f8f9fa",
        "template": {
         "data": {
          "bar": [
           {
            "error_x": {
             "color": "#2a3f5f"
            },
            "error_y": {
             "color": "#2a3f5f"
            },
            "marker": {
             "line": {
              "color": "#E5ECF6",
              "width": 0.5
             },
             "pattern": {
              "fillmode": "overlay",
              "size": 10,
              "solidity": 0.2
             }
            },
            "type": "bar"
           }
          ],
          "barpolar": [
           {
            "marker": {
             "line": {
              "color": "#E5ECF6",
              "width": 0.5
             },
             "pattern": {
              "fillmode": "overlay",
              "size": 10,
              "solidity": 0.2
             }
            },
            "type": "barpolar"
           }
          ],
          "carpet": [
           {
            "aaxis": {
             "endlinecolor": "#2a3f5f",
             "gridcolor": "white",
             "linecolor": "white",
             "minorgridcolor": "white",
             "startlinecolor": "#2a3f5f"
            },
            "baxis": {
             "endlinecolor": "#2a3f5f",
             "gridcolor": "white",
             "linecolor": "white",
             "minorgridcolor": "white",
             "startlinecolor": "#2a3f5f"
            },
            "type": "carpet"
           }
          ],
          "choropleth": [
           {
            "colorbar": {
             "outlinewidth": 0,
             "ticks": ""
            },
            "type": "choropleth"
           }
          ],
          "contour": [
           {
            "colorbar": {
             "outlinewidth": 0,
             "ticks": ""
            },
            "colorscale": [
             [
              0,
              "#0d0887"
             ],
             [
              0.1111111111111111,
              "#46039f"
             ],
             [
              0.2222222222222222,
              "#7201a8"
             ],
             [
              0.3333333333333333,
              "#9c179e"
             ],
             [
              0.4444444444444444,
              "#bd3786"
             ],
             [
              0.5555555555555556,
              "#d8576b"
             ],
             [
              0.6666666666666666,
              "#ed7953"
             ],
             [
              0.7777777777777778,
              "#fb9f3a"
             ],
             [
              0.8888888888888888,
              "#fdca26"
             ],
             [
              1,
              "#f0f921"
             ]
            ],
            "type": "contour"
           }
          ],
          "contourcarpet": [
           {
            "colorbar": {
             "outlinewidth": 0,
             "ticks": ""
            },
            "type": "contourcarpet"
           }
          ],
          "heatmap": [
           {
            "colorbar": {
             "outlinewidth": 0,
             "ticks": ""
            },
            "colorscale": [
             [
              0,
              "#0d0887"
             ],
             [
              0.1111111111111111,
              "#46039f"
             ],
             [
              0.2222222222222222,
              "#7201a8"
             ],
             [
              0.3333333333333333,
              "#9c179e"
             ],
             [
              0.4444444444444444,
              "#bd3786"
             ],
             [
              0.5555555555555556,
              "#d8576b"
             ],
             [
              0.6666666666666666,
              "#ed7953"
             ],
             [
              0.7777777777777778,
              "#fb9f3a"
             ],
             [
              0.8888888888888888,
              "#fdca26"
             ],
             [
              1,
              "#f0f921"
             ]
            ],
            "type": "heatmap"
           }
          ],
          "heatmapgl": [
           {
            "colorbar": {
             "outlinewidth": 0,
             "ticks": ""
            },
            "colorscale": [
             [
              0,
              "#0d0887"
             ],
             [
              0.1111111111111111,
              "#46039f"
             ],
             [
              0.2222222222222222,
              "#7201a8"
             ],
             [
              0.3333333333333333,
              "#9c179e"
             ],
             [
              0.4444444444444444,
              "#bd3786"
             ],
             [
              0.5555555555555556,
              "#d8576b"
             ],
             [
              0.6666666666666666,
              "#ed7953"
             ],
             [
              0.7777777777777778,
              "#fb9f3a"
             ],
             [
              0.8888888888888888,
              "#fdca26"
             ],
             [
              1,
              "#f0f921"
             ]
            ],
            "type": "heatmapgl"
           }
          ],
          "histogram": [
           {
            "marker": {
             "pattern": {
              "fillmode": "overlay",
              "size": 10,
              "solidity": 0.2
             }
            },
            "type": "histogram"
           }
          ],
          "histogram2d": [
           {
            "colorbar": {
             "outlinewidth": 0,
             "ticks": ""
            },
            "colorscale": [
             [
              0,
              "#0d0887"
             ],
             [
              0.1111111111111111,
              "#46039f"
             ],
             [
              0.2222222222222222,
              "#7201a8"
             ],
             [
              0.3333333333333333,
              "#9c179e"
             ],
             [
              0.4444444444444444,
              "#bd3786"
             ],
             [
              0.5555555555555556,
              "#d8576b"
             ],
             [
              0.6666666666666666,
              "#ed7953"
             ],
             [
              0.7777777777777778,
              "#fb9f3a"
             ],
             [
              0.8888888888888888,
              "#fdca26"
             ],
             [
              1,
              "#f0f921"
             ]
            ],
            "type": "histogram2d"
           }
          ],
          "histogram2dcontour": [
           {
            "colorbar": {
             "outlinewidth": 0,
             "ticks": ""
            },
            "colorscale": [
             [
              0,
              "#0d0887"
             ],
             [
              0.1111111111111111,
              "#46039f"
             ],
             [
              0.2222222222222222,
              "#7201a8"
             ],
             [
              0.3333333333333333,
              "#9c179e"
             ],
             [
              0.4444444444444444,
              "#bd3786"
             ],
             [
              0.5555555555555556,
              "#d8576b"
             ],
             [
              0.6666666666666666,
              "#ed7953"
             ],
             [
              0.7777777777777778,
              "#fb9f3a"
             ],
             [
              0.8888888888888888,
              "#fdca26"
             ],
             [
              1,
              "#f0f921"
             ]
            ],
            "type": "histogram2dcontour"
           }
          ],
          "mesh3d": [
           {
            "colorbar": {
             "outlinewidth": 0,
             "ticks": ""
            },
            "type": "mesh3d"
           }
          ],
          "parcoords": [
           {
            "line": {
             "colorbar": {
              "outlinewidth": 0,
              "ticks": ""
             }
            },
            "type": "parcoords"
           }
          ],
          "pie": [
           {
            "automargin": true,
            "type": "pie"
           }
          ],
          "scatter": [
           {
            "fillpattern": {
             "fillmode": "overlay",
             "size": 10,
             "solidity": 0.2
            },
            "type": "scatter"
           }
          ],
          "scatter3d": [
           {
            "line": {
             "colorbar": {
              "outlinewidth": 0,
              "ticks": ""
             }
            },
            "marker": {
             "colorbar": {
              "outlinewidth": 0,
              "ticks": ""
             }
            },
            "type": "scatter3d"
           }
          ],
          "scattercarpet": [
           {
            "marker": {
             "colorbar": {
              "outlinewidth": 0,
              "ticks": ""
             }
            },
            "type": "scattercarpet"
           }
          ],
          "scattergeo": [
           {
            "marker": {
             "colorbar": {
              "outlinewidth": 0,
              "ticks": ""
             }
            },
            "type": "scattergeo"
           }
          ],
          "scattergl": [
           {
            "marker": {
             "colorbar": {
              "outlinewidth": 0,
              "ticks": ""
             }
            },
            "type": "scattergl"
           }
          ],
          "scattermapbox": [
           {
            "marker": {
             "colorbar": {
              "outlinewidth": 0,
              "ticks": ""
             }
            },
            "type": "scattermapbox"
           }
          ],
          "scatterpolar": [
           {
            "marker": {
             "colorbar": {
              "outlinewidth": 0,
              "ticks": ""
             }
            },
            "type": "scatterpolar"
           }
          ],
          "scatterpolargl": [
           {
            "marker": {
             "colorbar": {
              "outlinewidth": 0,
              "ticks": ""
             }
            },
            "type": "scatterpolargl"
           }
          ],
          "scatterternary": [
           {
            "marker": {
             "colorbar": {
              "outlinewidth": 0,
              "ticks": ""
             }
            },
            "type": "scatterternary"
           }
          ],
          "surface": [
           {
            "colorbar": {
             "outlinewidth": 0,
             "ticks": ""
            },
            "colorscale": [
             [
              0,
              "#0d0887"
             ],
             [
              0.1111111111111111,
              "#46039f"
             ],
             [
              0.2222222222222222,
              "#7201a8"
             ],
             [
              0.3333333333333333,
              "#9c179e"
             ],
             [
              0.4444444444444444,
              "#bd3786"
             ],
             [
              0.5555555555555556,
              "#d8576b"
             ],
             [
              0.6666666666666666,
              "#ed7953"
             ],
             [
              0.7777777777777778,
              "#fb9f3a"
             ],
             [
              0.8888888888888888,
              "#fdca26"
             ],
             [
              1,
              "#f0f921"
             ]
            ],
            "type": "surface"
           }
          ],
          "table": [
           {
            "cells": {
             "fill": {
              "color": "#EBF0F8"
             },
             "line": {
              "color": "white"
             }
            },
            "header": {
             "fill": {
              "color": "#C8D4E3"
             },
             "line": {
              "color": "white"
             }
            },
            "type": "table"
           }
          ]
         },
         "layout": {
          "annotationdefaults": {
           "arrowcolor": "#2a3f5f",
           "arrowhead": 0,
           "arrowwidth": 1
          },
          "autotypenumbers": "strict",
          "coloraxis": {
           "colorbar": {
            "outlinewidth": 0,
            "ticks": ""
           }
          },
          "colorscale": {
           "diverging": [
            [
             0,
             "#8e0152"
            ],
            [
             0.1,
             "#c51b7d"
            ],
            [
             0.2,
             "#de77ae"
            ],
            [
             0.3,
             "#f1b6da"
            ],
            [
             0.4,
             "#fde0ef"
            ],
            [
             0.5,
             "#f7f7f7"
            ],
            [
             0.6,
             "#e6f5d0"
            ],
            [
             0.7,
             "#b8e186"
            ],
            [
             0.8,
             "#7fbc41"
            ],
            [
             0.9,
             "#4d9221"
            ],
            [
             1,
             "#276419"
            ]
           ],
           "sequential": [
            [
             0,
             "#0d0887"
            ],
            [
             0.1111111111111111,
             "#46039f"
            ],
            [
             0.2222222222222222,
             "#7201a8"
            ],
            [
             0.3333333333333333,
             "#9c179e"
            ],
            [
             0.4444444444444444,
             "#bd3786"
            ],
            [
             0.5555555555555556,
             "#d8576b"
            ],
            [
             0.6666666666666666,
             "#ed7953"
            ],
            [
             0.7777777777777778,
             "#fb9f3a"
            ],
            [
             0.8888888888888888,
             "#fdca26"
            ],
            [
             1,
             "#f0f921"
            ]
           ],
           "sequentialminus": [
            [
             0,
             "#0d0887"
            ],
            [
             0.1111111111111111,
             "#46039f"
            ],
            [
             0.2222222222222222,
             "#7201a8"
            ],
            [
             0.3333333333333333,
             "#9c179e"
            ],
            [
             0.4444444444444444,
             "#bd3786"
            ],
            [
             0.5555555555555556,
             "#d8576b"
            ],
            [
             0.6666666666666666,
             "#ed7953"
            ],
            [
             0.7777777777777778,
             "#fb9f3a"
            ],
            [
             0.8888888888888888,
             "#fdca26"
            ],
            [
             1,
             "#f0f921"
            ]
           ]
          },
          "colorway": [
           "#636efa",
           "#EF553B",
           "#00cc96",
           "#ab63fa",
           "#FFA15A",
           "#19d3f3",
           "#FF6692",
           "#B6E880",
           "#FF97FF",
           "#FECB52"
          ],
          "font": {
           "color": "#2a3f5f"
          },
          "geo": {
           "bgcolor": "white",
           "lakecolor": "white",
           "landcolor": "#E5ECF6",
           "showlakes": true,
           "showland": true,
           "subunitcolor": "white"
          },
          "hoverlabel": {
           "align": "left"
          },
          "hovermode": "closest",
          "mapbox": {
           "style": "light"
          },
          "paper_bgcolor": "white",
          "plot_bgcolor": "#E5ECF6",
          "polar": {
           "angularaxis": {
            "gridcolor": "white",
            "linecolor": "white",
            "ticks": ""
           },
           "bgcolor": "#E5ECF6",
           "radialaxis": {
            "gridcolor": "white",
            "linecolor": "white",
            "ticks": ""
           }
          },
          "scene": {
           "xaxis": {
            "backgroundcolor": "#E5ECF6",
            "gridcolor": "white",
            "gridwidth": 2,
            "linecolor": "white",
            "showbackground": true,
            "ticks": "",
            "zerolinecolor": "white"
           },
           "yaxis": {
            "backgroundcolor": "#E5ECF6",
            "gridcolor": "white",
            "gridwidth": 2,
            "linecolor": "white",
            "showbackground": true,
            "ticks": "",
            "zerolinecolor": "white"
           },
           "zaxis": {
            "backgroundcolor": "#E5ECF6",
            "gridcolor": "white",
            "gridwidth": 2,
            "linecolor": "white",
            "showbackground": true,
            "ticks": "",
            "zerolinecolor": "white"
           }
          },
          "shapedefaults": {
           "line": {
            "color": "#2a3f5f"
           }
          },
          "ternary": {
           "aaxis": {
            "gridcolor": "white",
            "linecolor": "white",
            "ticks": ""
           },
           "baxis": {
            "gridcolor": "white",
            "linecolor": "white",
            "ticks": ""
           },
           "bgcolor": "#E5ECF6",
           "caxis": {
            "gridcolor": "white",
            "linecolor": "white",
            "ticks": ""
           }
          },
          "title": {
           "x": 0.05
          },
          "xaxis": {
           "automargin": true,
           "gridcolor": "white",
           "linecolor": "white",
           "ticks": "",
           "title": {
            "standoff": 15
           },
           "zerolinecolor": "white",
           "zerolinewidth": 2
          },
          "yaxis": {
           "automargin": true,
           "gridcolor": "white",
           "linecolor": "white",
           "ticks": "",
           "title": {
            "standoff": 15
           },
           "zerolinecolor": "white",
           "zerolinewidth": 2
          }
         }
        },
        "title": {
         "text": "Alta Volatilidade no XAUUSD"
        },
        "xaxis": {
         "title": {
          "text": "DATA"
         }
        },
        "yaxis": {
         "gridcolor": "#E2E2E2",
         "gridwidth": 1,
         "showgrid": true,
         "tickfont": {
          "color": "#1f77b4"
         },
         "title": {
          "font": {
           "color": "#1f77b4"
          },
          "text": "HISTÓRICO DE PREÇOS"
         }
        },
        "yaxis2": {
         "overlaying": "y",
         "showgrid": false,
         "side": "right",
         "tickfont": {
          "color": "#ff7f0e"
         },
         "title": {
          "font": {
           "color": "#ff7f0e"
          },
          "text": "DIAS COM ALTA VOLATILIDADE"
         }
        }
       }
      }
     },
     "metadata": {},
     "output_type": "display_data"
    }
   ],
   "source": [
    "fig_xau = go.Figure()\n",
    "fig_xau.add_trace(go.Scatter(x=df_dxy_close['date'], y=df_dxy_close['close'], mode='lines', name='Índice do Dólar', yaxis='y1'))\n",
    "fig_xau.add_trace(go.Scatter(x=df_xau_close['date'], y=df_xau_close['close'], mode='lines', name='Histórico XAUUSD', yaxis='y2'))\n",
    "fig_xau.update_layout(\n",
    "    title='DXY vs XAUUSD',\n",
    "    xaxis_title='DATA',\n",
    "    yaxis=dict(\n",
    "        title='ÍNDICE DO DÓLAR',\n",
    "        titlefont=dict(color='#1f77b4'),\n",
    "        tickfont=dict(color='#1f77b4'),\n",
    "        showgrid=True,\n",
    "        gridwidth=1,\n",
    "        gridcolor='#E2E2E2'\n",
    "    ),\n",
    "    yaxis2=dict(\n",
    "        title='HISTÓRICO XAUUSD',\n",
    "        titlefont=dict(color='#ff7f0e'),\n",
    "        tickfont=dict(color='#ff7f0e'),\n",
    "        overlaying='y',\n",
    "        side='right',\n",
    "        showgrid=False\n",
    "    ),\n",
    "    legend=dict(x=0.01, y=0.99),\n",
    "    plot_bgcolor='#f8f9fa',\n",
    "    paper_bgcolor='#f8f9fa'\n",
    ")\n",
    "\n",
    "fig_eur = go.Figure()\n",
    "fig_eur.add_trace(go.Scatter(x=df_dxy_close['date'], y=df_dxy_close['close'], mode='lines', name='Índice do Dólar', yaxis='y1'))\n",
    "fig_eur.add_trace(go.Scatter(x=df_eur_close['date'], y=df_eur_close['close'], mode='lines', name='Histórico EURUSD', yaxis='y2'))\n",
    "fig_eur.update_layout(\n",
    "    title='DXY vs EURUSD',\n",
    "    xaxis_title='DATA',\n",
    "    yaxis=dict(\n",
    "        title='ÍNDICE DO DÓLAR',\n",
    "        titlefont=dict(color='#1f77b4'),\n",
    "        tickfont=dict(color='#1f77b4'),\n",
    "        showgrid=True,\n",
    "        gridwidth=1,\n",
    "        gridcolor='#E2E2E2'\n",
    "    ),\n",
    "    yaxis2=dict(\n",
    "        title='HISTÓRICO EURUSD',\n",
    "        titlefont=dict(color='#ff7f0e'),\n",
    "        tickfont=dict(color='#ff7f0e'),\n",
    "        overlaying='y',\n",
    "        side='right',\n",
    "        showgrid=False\n",
    "    ),\n",
    "    legend=dict(x=0.01, y=0.99),\n",
    "    plot_bgcolor='#f8f9fa',\n",
    "    paper_bgcolor='#f8f9fa'\n",
    ")\n",
    "\n",
    "fig_gbp = go.Figure()\n",
    "fig_gbp.add_trace(go.Scatter(x=df_dxy_close['date'], y=df_dxy_close['close'], mode='lines', name='Índice do Dólar', yaxis='y1'))\n",
    "fig_gbp.add_trace(go.Scatter(x=df_gbp_close['date'], y=df_gbp_close['close'], mode='lines', name='Histórico GBPUSD', yaxis='y2'))\n",
    "fig_gbp.update_layout(\n",
    "    title='DXY vs GBPUSD',\n",
    "    xaxis_title='DATA',\n",
    "    yaxis=dict(\n",
    "        title='ÍNDICE DO DÓLAR',\n",
    "        titlefont=dict(color='#1f77b4'),\n",
    "        tickfont=dict(color='#1f77b4'),\n",
    "        showgrid=True,\n",
    "        gridwidth=1,\n",
    "        gridcolor='#E2E2E2'\n",
    "    ),\n",
    "    yaxis2=dict(\n",
    "        title='HISTÓRICO GBPUSD',\n",
    "        titlefont=dict(color='#ff7f0e'),\n",
    "        tickfont=dict(color='#ff7f0e'),\n",
    "        overlaying='y',\n",
    "        side='right',\n",
    "        showgrid=False\n",
    "    ),\n",
    "    legend=dict(x=0.01, y=0.99),\n",
    "    plot_bgcolor='#f8f9fa',\n",
    "    paper_bgcolor='#f8f9fa'\n",
    ")\n",
    "\n",
    "fig_aud = go.Figure()\n",
    "fig_aud.add_trace(go.Scatter(x=df_dxy_close['date'], y=df_dxy_close['close'], mode='lines', name='Índice do Dólar', yaxis='y1'))\n",
    "fig_aud.add_trace(go.Scatter(x=df_aud_close['date'], y=df_aud_close['close'], mode='lines', name='Histórico AUDUSD', yaxis='y2'))\n",
    "fig_aud.update_layout(\n",
    "    title='DXY vs AUDUSD',\n",
    "    xaxis_title='DATA',\n",
    "    yaxis=dict(\n",
    "        title='ÍNDICE DO DÓLAR',\n",
    "        titlefont=dict(color='#1f77b4'),\n",
    "        tickfont=dict(color='#1f77b4'),\n",
    "        showgrid=True,\n",
    "        gridwidth=1,\n",
    "        gridcolor='#E2E2E2'\n",
    "    ),\n",
    "    yaxis2=dict(\n",
    "        title='HISTÓRICO AUDUSD',\n",
    "        titlefont=dict(color='#ff7f0e'),\n",
    "        tickfont=dict(color='#ff7f0e'),\n",
    "        overlaying='y',\n",
    "        side='right',\n",
    "        showgrid=False\n",
    "    ),\n",
    "    legend=dict(x=0.01, y=0.99),\n",
    "    plot_bgcolor='#f8f9fa',\n",
    "    paper_bgcolor='#f8f9fa'\n",
    ")\n",
    "\n",
    "# figura ALTA VOLATILIDADE XAUUSD\n",
    "fig_alta_volat = go.Figure()\n",
    "fig_alta_volat.add_trace(go.Scatter(x=df_xau_close['date'], y=df_xau_close['close'], mode='lines', name='Histórico de Preços', yaxis='y1'))\n",
    "fig_alta_volat.add_trace(go.Scatter(x=alta_volatilidade_xau['date'], y=alta_volatilidade_xau['close'], mode='markers', name='Alta Volatilidade', yaxis='y2'))\n",
    "fig_alta_volat.update_layout(\n",
    "    title='Alta Volatilidade no XAUUSD',\n",
    "    xaxis_title='DATA',\n",
    "    yaxis=dict(\n",
    "        title='HISTÓRICO DE PREÇOS',\n",
    "        titlefont=dict(color='#1f77b4'),\n",
    "        tickfont=dict(color='#1f77b4'),\n",
    "        showgrid=True,\n",
    "        gridwidth=1,\n",
    "        gridcolor='#E2E2E2'\n",
    "    ),\n",
    "    yaxis2=dict(\n",
    "        title='DIAS COM ALTA VOLATILIDADE',\n",
    "        titlefont=dict(color='#ff7f0e'),\n",
    "        tickfont=dict(color='#ff7f0e'),\n",
    "        overlaying='y',\n",
    "        side='right',\n",
    "        showgrid=False\n",
    "    ),\n",
    "    legend=dict(x=0.01, y=0.99),\n",
    "    plot_bgcolor='#f8f9fa',\n",
    "    paper_bgcolor='#f8f9fa'\n",
    ")"
   ]
  },
  {
   "cell_type": "markdown",
   "metadata": {},
   "source": [
    "CONFIGURAÇÃO DO APP DASH"
   ]
  },
  {
   "cell_type": "code",
   "execution_count": 6,
   "metadata": {},
   "outputs": [
    {
     "data": {
      "text/html": [
       "\n",
       "        <iframe\n",
       "            width=\"100%\"\n",
       "            height=\"650\"\n",
       "            src=\"http://127.0.0.1:8050/\"\n",
       "            frameborder=\"0\"\n",
       "            allowfullscreen\n",
       "            \n",
       "        ></iframe>\n",
       "        "
      ],
      "text/plain": [
       "<IPython.lib.display.IFrame at 0x1c776c4c950>"
      ]
     },
     "metadata": {},
     "output_type": "display_data"
    }
   ],
   "source": [
    "app = Dash(__name__)\n",
    "\n",
    "# layout da aplicação\n",
    "app.layout = html.Div([\n",
    "    html.Div([\n",
    "        # seleção da relação inversa\n",
    "        html.Div(style={'marginTop': 50}),\n",
    "        html.H3(children='a relação inversa que o índice do dólar tem com os ativos', style={'textAlign': 'center'}),\n",
    "        dcc.Dropdown(['XAU', 'EUR', 'GBP', 'AUD'], value='XAU', id='relacao_dxy',\n",
    "                     style={'width': '30%', 'margin': '0 auto', 'display': 'block', 'textAlign': 'center'}),\n",
    "        dcc.Graph(id='inferencia', figure=fig_xau, style={'width': '100%','height': 700})\n",
    "        ]),\n",
    "    \n",
    "    html.Div([\n",
    "        html.Div(style={'marginTop': 20}),\n",
    "        html.H3(children='dias de alta volatilidade no gold', style={'textAlign': 'center'}),\n",
    "        dcc.Graph(id='alta volatilidade', figure=fig_alta_volat, style={'width': '100%','height': 700})\n",
    "        ]),\n",
    "\n",
    "    html.Div([\n",
    "        html.Div(style={'marginTop': 20}),\n",
    "        html.H3(children='notícias relevantes por investing.com', style={'textAlign': 'center'}),\n",
    "        dcc.Dropdown(id='data_volatilidade', options=[{'label': date.strftime('%d/%m/%Y'), 'value': date.strftime('%Y-%m-%d')} for date in alta_volatilidade_xau['date'].unique()],\n",
    "                     style={'width': '30%', 'margin': '0 auto', 'display': 'block', 'textAlign': 'center'}),\n",
    "        html.Div(id='noticias', style={'marginTop': 20, 'itemAlign': 'center'}),\n",
    "        html.Div(style={'marginTop': 100})\n",
    "        ]),\n",
    "        \n",
    "])\n",
    "\n",
    "# callbacks da aplicação\n",
    "@app.callback(\n",
    "    Output('inferencia', 'figure'),\n",
    "    Input('relacao_dxy', 'value')\n",
    ")\n",
    "def update_output(value): #função que retorna relação do dxy com outro ativos\n",
    "    if value == 'XAU':\n",
    "        # figura do xau\n",
    "        return fig_xau\n",
    "    elif value == 'EUR':\n",
    "        # figura do eur\n",
    "        return fig_eur\n",
    "    elif value == 'GBP':\n",
    "        # figura do GBP\n",
    "        return fig_gbp\n",
    "    elif value == 'AUD':\n",
    "        # figura do AUD\n",
    "        return fig_aud\n",
    "    \n",
    "@app.callback(\n",
    "    Output('noticias', 'children'),\n",
    "    Input('data_volatilidade', 'value')\n",
    ")\n",
    "def update_noticias(data_selecionada): #função que retorna cards dos artigos coletados\n",
    "    data_filtrada = artigos[artigos['date'] == data_selecionada]\n",
    "    cards = [\n",
    "        html.Div([\n",
    "            html.H5(row['titulo'], className='card-title'),\n",
    "            html.P(row['resumo'], className='card-text'),\n",
    "            html.A('Leia mais', href=row['link'], className='btn btn-primary', target='_blank')\n",
    "        ],\n",
    "        className='card', style={'width': '18rem', 'margin': '10px'})\n",
    "        for _, row in data_filtrada.iterrows()\n",
    "    ]\n",
    "    return html.Div(cards, className='d-flex flex-wrap justify-content-center')\n",
    "\n",
    "# run app\n",
    "if __name__ == '__main__':\n",
    "    app.run(debug=True)\n"
   ]
  }
 ],
 "metadata": {
  "kernelspec": {
   "display_name": "Python 3",
   "language": "python",
   "name": "python3"
  },
  "language_info": {
   "codemirror_mode": {
    "name": "ipython",
    "version": 3
   },
   "file_extension": ".py",
   "mimetype": "text/x-python",
   "name": "python",
   "nbconvert_exporter": "python",
   "pygments_lexer": "ipython3",
   "version": "3.12.4"
  }
 },
 "nbformat": 4,
 "nbformat_minor": 2
}
