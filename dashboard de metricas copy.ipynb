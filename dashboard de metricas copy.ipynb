{
 "cells": [
  {
   "cell_type": "markdown",
   "metadata": {},
   "source": [
    "BIBLIOTECAS"
   ]
  },
  {
   "cell_type": "code",
   "execution_count": 1,
   "metadata": {},
   "outputs": [],
   "source": [
    "import pandas as pd\n",
    "from sqlalchemy import create_engine\n",
    "import datetime as dt\n",
    "import numpy as np\n",
    "import unidecode"
   ]
  },
  {
   "cell_type": "markdown",
   "metadata": {},
   "source": [
    "EXTRAÇÃO DOS DADOS"
   ]
  },
  {
   "cell_type": "code",
   "execution_count": 2,
   "metadata": {},
   "outputs": [],
   "source": [
    "# Dados de acesso PostgreSQL\n",
    "trt_name = 'automatiza_metricas_dev'\n",
    "trt_user = 'automatiza'\n",
    "trt_password = 'automatiza'\n",
    "trt_host = '10.5.15.78'\n",
    "trt_port = '5432'\n",
    "\n",
    "# Acessa o banco de dados e cria a engine\n",
    "db_url = f'postgresql+psycopg2://{trt_user}:{trt_password}@{trt_host}:{trt_port}/{trt_name}'\n",
    "engine = create_engine(db_url)\n",
    "\n",
    "# Seleciona as tabelas\n",
    "query_cartoes = \"SELECT * FROM cartoes\"\n",
    "query_checklists = \"SELECT * FROM checklists\"\n",
    "query_listas = \"SELECT * FROM listas\"\n",
    "query_quadros = \"SELECT * FROM quadros\"\n",
    "\n",
    "# Armazena tabelas em dataframes\n",
    "df_cartoes = pd.read_sql(query_cartoes, engine)\n",
    "df_checklists = pd.read_sql(query_checklists, engine)\n",
    "df_listas = pd.read_sql(query_listas, engine)\n",
    "df_quadros = pd.read_sql(query_quadros, engine)\n",
    "\n",
    "# Copia de segurança das tabelas\n",
    "quadros = df_quadros.copy()\n",
    "listas = df_listas.copy()\n",
    "cartoes = df_cartoes.copy()\n",
    "checklists = df_checklists.copy()"
   ]
  },
  {
   "cell_type": "markdown",
   "metadata": {},
   "source": [
    "TRANSFORMAÇÃO DOS DADOS"
   ]
  },
  {
   "cell_type": "code",
   "execution_count": 3,
   "metadata": {},
   "outputs": [],
   "source": [
    "# Renomear coluna \"nome\" das tabelas\n",
    "quadros.rename(columns={'nome': 'quadro'}, inplace=True)\n",
    "listas.rename(columns={'nome': 'lista'}, inplace=True)\n",
    "cartoes.rename(columns={'nome': 'cartao'}, inplace=True)\n",
    "checklists.rename(columns={'nome': 'checklist'}, inplace=True)\n",
    "\n",
    "# Concatenar dataframes\n",
    "consolidado = quadros.merge(listas, on='id_quadro', how='outer') \\\n",
    "    .merge(cartoes, on='id_lista', how='outer') \\\n",
    "        .merge(checklists, on='id_cartao', how='outer')\n",
    "\n",
    "# Tratar valores nulos\n",
    "consolidado['data_inicio'] = consolidado['data_inicio'].fillna(consolidado['data_fim'])\n",
    "consolidado['data_fim'] = consolidado['data_fim'].fillna(consolidado['data_inicio'])\n",
    "consolidado[['data_inicio', 'data_fim']] = consolidado[['data_inicio', 'data_fim']].fillna(pd.Timestamp('01-01-1900'))\n",
    "consolidado['lead_time'] = consolidado['lead_time'].fillna(1)\n",
    "consolidado['descricao'] = consolidado['descricao'].replace('', np.nan).fillna('sem descricao')\n",
    "consolidado['id_lista'] = consolidado['id_lista'].replace('', np.nan).fillna('sem lista')\n",
    "consolidado['lista'] = consolidado['lista'].replace('', np.nan).fillna('sem lista')\n",
    "consolidado['id_cartao'] = consolidado['id_cartao'].replace('', np.nan).fillna('sem cartao')\n",
    "consolidado['cartao'] = consolidado['cartao'].replace('', np.nan).fillna('sem cartao')\n",
    "consolidado['id_checklist'] = consolidado['id_checklist'].replace('', np.nan).fillna('sem checklist')\n",
    "consolidado['checklist'] = consolidado['checklist'].replace('', np.nan).fillna('sem checklist')\n",
    "consolidado['quant_itens'] = consolidado['quant_itens'].replace('', np.nan).fillna(0)\n",
    "\n",
    "# Padronizar itens em serie\n",
    "def processar_texto(texto):\n",
    "    texto = texto.lower() # letras minusculas\n",
    "    texto = unidecode.unidecode(texto) # remove acentuação\n",
    "    return texto\n",
    "consolidado['lista'] = consolidado['lista'].apply(processar_texto)\n",
    "consolidado['checklist'] = consolidado['checklist'].apply(processar_texto)\n",
    "\n",
    "# Converter tipos de dados\n",
    "consolidado['data_inicio'] = pd.to_datetime(consolidado['data_inicio'], format='%d-%m-%Y')\n",
    "consolidado['data_fim'] = pd.to_datetime(consolidado['data_fim'], format='%d-%m-%Y')\n",
    "consolidado['lead_time'] = consolidado['lead_time'].astype(int)\n",
    "consolidado['quant_itens'] = consolidado['quant_itens'].astype(int)\n"
   ]
  },
  {
   "cell_type": "code",
   "execution_count": 4,
   "metadata": {},
   "outputs": [
    {
     "name": "stdout",
     "output_type": "stream",
     "text": [
      "<class 'pandas.core.frame.DataFrame'>\n",
      "RangeIndex: 166 entries, 0 to 165\n",
      "Data columns (total 13 columns):\n",
      " #   Column        Non-Null Count  Dtype         \n",
      "---  ------        --------------  -----         \n",
      " 0   id_quadro     166 non-null    object        \n",
      " 1   quadro        166 non-null    object        \n",
      " 2   id_lista      166 non-null    object        \n",
      " 3   lista         166 non-null    object        \n",
      " 4   id_cartao     166 non-null    object        \n",
      " 5   cartao        166 non-null    object        \n",
      " 6   descricao     166 non-null    object        \n",
      " 7   data_inicio   166 non-null    datetime64[ns]\n",
      " 8   data_fim      166 non-null    datetime64[ns]\n",
      " 9   lead_time     166 non-null    int32         \n",
      " 10  id_checklist  166 non-null    object        \n",
      " 11  checklist     166 non-null    object        \n",
      " 12  quant_itens   166 non-null    int32         \n",
      "dtypes: datetime64[ns](2), int32(2), object(9)\n",
      "memory usage: 15.7+ KB\n"
     ]
    },
    {
     "data": {
      "text/plain": [
       "None"
      ]
     },
     "metadata": {},
     "output_type": "display_data"
    },
    {
     "data": {
      "text/plain": [
       "quadro\n",
       "Time SIP           87\n",
       "SEDSJ              25\n",
       "Testes Pyllo       17\n",
       "Time Remessa       12\n",
       "JT SIGEP            7\n",
       "AutomatizaTRT       7\n",
       "JTe                 6\n",
       "Videoteca           1\n",
       "Time Frequência     1\n",
       "SIPAG               1\n",
       "Projetos Legado     1\n",
       "Núcleo WEB          1\n",
       "Name: count, dtype: int64"
      ]
     },
     "metadata": {},
     "output_type": "display_data"
    }
   ],
   "source": [
    "display(consolidado.info())\n",
    "#display(consolidado.head(2))\n",
    "display(consolidado['quadro'].value_counts())\n",
    "consolidado.to_csv('consolidado.csv', index=False)\n",
    "consolidado.to_excel('consolidado.xlsx', index=False)"
   ]
  }
 ],
 "metadata": {
  "kernelspec": {
   "display_name": "Python 3",
   "language": "python",
   "name": "python3"
  },
  "language_info": {
   "codemirror_mode": {
    "name": "ipython",
    "version": 3
   },
   "file_extension": ".py",
   "mimetype": "text/x-python",
   "name": "python",
   "nbconvert_exporter": "python",
   "pygments_lexer": "ipython3",
   "version": "3.12.4"
  }
 },
 "nbformat": 4,
 "nbformat_minor": 2
}
